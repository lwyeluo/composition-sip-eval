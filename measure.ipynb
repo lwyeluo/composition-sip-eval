{
 "cells": [
  {
   "cell_type": "code",
   "execution_count": 32,
   "metadata": {
    "collapsed": true
   },
   "outputs": [],
   "source": [
    "from __future__ import print_function\n",
    "import os\n",
    "import json\n",
    "import numpy as np\n",
    "import pandas as pd\n",
    "from pandas.io.json import json_normalize\n"
   ]
  },
  {
   "cell_type": "code",
   "execution_count": 33,
   "metadata": {},
   "outputs": [],
   "source": [
    "def get_immediate_subdirectories(d):\n",
    "    return filter(os.path.isdir, [os.path.join(d, f) for f in os.listdir(d)])"
   ]
  },
  {
   "cell_type": "code",
   "execution_count": 34,
   "metadata": {},
   "outputs": [],
   "source": [
    "def process_files(directory):\n",
    "    all_df = pd.DataFrame()\n",
    "    for program_dir in get_immediate_subdirectories(directory):\n",
    "        program = os.path.basename(program_dir)\n",
    "        for coverage_dir in sorted(get_immediate_subdirectories(program_dir)):\n",
    "            coverage = os.path.basename(coverage_dir)\n",
    "\n",
    "            for combination_dir in get_immediate_subdirectories(coverage_dir):\n",
    "                combination = os.path.basename(combination_dir)\n",
    "\n",
    "                for attempt_dir in get_immediate_subdirectories(combination_dir):\n",
    "                    result_path = attempt_dir\n",
    "                    attempt = os.path.basename(attempt_dir)\n",
    "\n",
    "                    results = grab_results(result_path)\n",
    "\n",
    "                    raw = json_normalize(data=results)\n",
    "                    df = raw[['cputime', 'memory']]\n",
    "                    df.insert(0, 'attempt', int(attempt))\n",
    "                    df.insert(0, 'combination', int(combination))\n",
    "                    df.insert(0, 'coverage', int(coverage))\n",
    "                    df.insert(0, 'program', replace_name(program))\n",
    "                    all_df = all_df.append(df, sort=False)\n",
    "\n",
    "    return all_df\n"
   ]
  },
  {
   "cell_type": "code",
   "execution_count": 35,
   "metadata": {},
   "outputs": [],
   "source": [
    "def grab_results(result_directory):\n",
    "    runs_path = os.path.join(result_directory, \"runs.json\")\n",
    "    if os.path.exists(runs_path):\n",
    "        return json.load(open(runs_path))\n",
    "    return [{'cputime': 0, 'memory': 0}]\n"
   ]
  },
  {
   "cell_type": "code",
   "execution_count": 36,
   "metadata": {},
   "outputs": [],
   "source": [
    "def process_results(df):\n",
    "    grouped = df.groupby([df['program'], df['coverage'], df['attempt']])\n",
    "    return grouped.agg([np.min, np.max, np.median, np.mean, np.std])\n"
   ]
  },
  {
   "cell_type": "code",
   "execution_count": 37,
   "metadata": {},
   "outputs": [],
   "source": [
    "def replace_name(p):\n",
    "    return p.replace('.bc', ''). \\\n",
    "        replace('.x', ''). \\\n",
    "        replace('_testapp', ''). \\\n",
    "        replace('_game', ''). \\\n",
    "        replace('_large', '-l'). \\\n",
    "        replace('_small', '-s'). \\\n",
    "        replace('raw', ''). \\\n",
    "        replace('search', 'srch'). \\\n",
    "        replace('sort', 'srt'). \\\n",
    "        replace('basicmath', 'bm'). \\\n",
    "        replace('dijkstra', 'dkstra')\n"
   ]
  },
  {
   "cell_type": "code",
   "execution_count": 38,
   "metadata": {},
   "outputs": [],
   "source": [
    "df = process_files(\"/home/sip/eval/binaries\")\n",
    "df = df.fillna(0)\n",
    "df = df.drop(columns=['combination'])\n",
    "df = process_results(df)\n",
    "df = df.sort_values(['program', 'coverage'])\n",
    "df.columns = df.columns.map('_'.join)\n",
    "df = df.reset_index()\n",
    "df = df.fillna(0)"
   ]
  },
  {
   "cell_type": "code",
   "execution_count": 39,
   "metadata": {},
   "outputs": [],
   "source": [
    "for attempt in df['attempt'].unique():\n",
    "    adf = df[df['attempt'] == attempt]\n",
    "    adf.to_csv(os.path.join(\"/home/sip/eval/binaries\", \"measurements-{}.csv\".format(attempt)), index=False)\n",
    "    adf.to_json(os.path.join(\"/home/sip/eval/binaries\", \"measurements-{}.json\".format(attempt)), orient='records')\n"
   ]
  },
  {
   "cell_type": "code",
   "execution_count": null,
   "metadata": {},
   "outputs": [],
   "source": []
  }
 ],
 "metadata": {
  "kernelspec": {
   "display_name": "Python 2",
   "language": "python",
   "name": "python2"
  },
  "language_info": {
   "codemirror_mode": {
    "name": "ipython",
    "version": 3
   },
   "file_extension": ".py",
   "mimetype": "text/x-python",
   "name": "python",
   "nbconvert_exporter": "python",
   "pygments_lexer": "ipython3",
   "version": "3.6.5"
  }
 },
 "nbformat": 4,
 "nbformat_minor": 1
}
