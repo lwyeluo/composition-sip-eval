{
 "cells": [
  {
   "cell_type": "code",
   "execution_count": 1,
   "metadata": {
    "collapsed": true
   },
   "outputs": [],
   "source": [
    "from __future__ import print_function\n",
    "import os\n",
    "import json\n",
    "import numpy as np\n",
    "import pandas as pd\n",
    "from pandas.io.json import json_normalize\n"
   ]
  },
  {
   "cell_type": "code",
   "execution_count": 2,
   "metadata": {},
   "outputs": [],
   "source": [
    "def get_immediate_subdirectories(d):\n",
    "    return filter(os.path.isdir, [os.path.join(d, f) for f in os.listdir(d)])"
   ]
  },
  {
   "cell_type": "code",
   "execution_count": 3,
   "metadata": {},
   "outputs": [],
   "source": [
    "def process_files(directory):\n",
    "    all_df = pd.DataFrame()\n",
    "    for program_dir in get_immediate_subdirectories(directory):\n",
    "        program = os.path.basename(program_dir)\n",
    "        for coverage_dir in sorted(get_immediate_subdirectories(program_dir)):\n",
    "            coverage = os.path.basename(coverage_dir)\n",
    "\n",
    "            for combination_dir in get_immediate_subdirectories(coverage_dir):\n",
    "                combination = os.path.basename(combination_dir)\n",
    "\n",
    "                for attempt_dir in get_immediate_subdirectories(combination_dir):\n",
    "                    result_path = attempt_dir\n",
    "                    attempt = os.path.basename(attempt_dir)\n",
    "\n",
    "                    results = grab_results(result_path)\n",
    "                    \n",
    "                    raw = json_normalize(data=results)\n",
    "                    df = raw[['cputime', 'memory']]\n",
    "                    df.insert(0, 'attempt', int(attempt))\n",
    "                    df.insert(0, 'combination', int(combination))\n",
    "                    df.insert(0, 'coverage', int(coverage))\n",
    "                    df.insert(0, 'program', program)\n",
    "                    all_df = all_df.append(df, sort=False)\n",
    "                    \n",
    "    return all_df"
   ]
  },
  {
   "cell_type": "code",
   "execution_count": 4,
   "metadata": {},
   "outputs": [],
   "source": [
    "def grab_results(result_directory):\n",
    "    runs_path = os.path.join(result_directory, \"runs.json\")\n",
    "    if os.path.exists(runs_path):\n",
    "        return json.load(open(runs_path))\n",
    "    return [{'cputime': 0, 'memory': 0}]\n"
   ]
  },
  {
   "cell_type": "code",
   "execution_count": 5,
   "metadata": {},
   "outputs": [],
   "source": [
    "def process_results(df):\n",
    "    grouped = df.groupby([df['program'], df['coverage'], df['attempt']])\n",
    "    return grouped.agg([np.min, np.max, np.median, np.mean, np.std])"
   ]
  },
  {
   "cell_type": "code",
   "execution_count": 14,
   "metadata": {},
   "outputs": [],
   "source": [
    "df = process_files(\"/home/sip/eval/binaries\")\n",
    "df = df.fillna(0)\n",
    "df = df.drop(columns=['combination'])\n",
    "df = df.drop(columns=['stats.functionConnectivity.std', 'stats.instructionConnectivity.std', 'stats.protectionConnectivity.cfi', 'stats.protectionConnectivity.cm', 'stats.protectionConnectivity.sc', 'stats.protectionConnectivity.oh_assert_', 'stats.protectionConnectivity.oh_hash_', 'stats.protectionConnectivity.sroh_assert', 'stats.protectionConnectivity.sroh_hash'])\n",
    "df = df[df['attempt'] == 1]\n",
    "df = df.round(2)"
   ]
  },
  {
   "cell_type": "code",
   "execution_count": null,
   "metadata": {},
   "outputs": [],
   "source": [
    "df = process_results(df[df['attempt'] == 1]).sort_values(['program', 'coverage'])\n",
    "\n",
    "df.columns = df.columns.map('_'.join)\n",
    "df = df.reset_index()\n",
    "df.to_csv(os.path.join(\"/home/sip/eval/binaries\", \"measurements.csv\"), index=False)\n",
    "df.to_json(os.path.join(\"/home/sip/eval/binaries\", \"measurements.json\"), orient='records')\n"
   ]
  }
 ],
 "metadata": {
  "kernelspec": {
   "display_name": "Python 2",
   "language": "python",
   "name": "python2"
  },
  "language_info": {
   "codemirror_mode": {
    "name": "ipython",
    "version": 3
   },
   "file_extension": ".py",
   "mimetype": "text/x-python",
   "name": "python",
   "nbconvert_exporter": "python",
   "pygments_lexer": "ipython3",
   "version": "3.6.5"
  }
 },
 "nbformat": 4,
 "nbformat_minor": 1
}
