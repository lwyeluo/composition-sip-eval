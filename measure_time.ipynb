{
 "cells": [
  {
   "cell_type": "code",
   "execution_count": 1,
   "metadata": {},
   "outputs": [],
   "source": [
    "from __future__ import print_function\n",
    "import os\n",
    "import json\n",
    "import numpy as np\n",
    "import pandas as pd\n",
    "from pandas.io.json import json_normalize\n",
    "import re\n"
   ]
  },
  {
   "cell_type": "code",
   "execution_count": 2,
   "metadata": {},
   "outputs": [],
   "source": [
    "def get_immediate_subdirectories(d):\n",
    "    return filter(os.path.isdir, [os.path.join(d, f) for f in os.listdir(d)])"
   ]
  },
  {
   "cell_type": "code",
   "execution_count": 3,
   "metadata": {},
   "outputs": [],
   "source": [
    "def process_files(directory):\n",
    "    all_df = pd.DataFrame()\n",
    "    for program_dir in get_immediate_subdirectories(directory):\n",
    "        program = os.path.basename(program_dir)\n",
    "        for coverage_dir in sorted(get_immediate_subdirectories(program_dir)):\n",
    "            coverage = os.path.basename(coverage_dir)\n",
    "            if coverage == \"0\":\n",
    "                continue\n",
    "\n",
    "            for combination_dir in get_immediate_subdirectories(coverage_dir):\n",
    "                combination = os.path.basename(combination_dir)\n",
    "\n",
    "                for attempt_dir in get_immediate_subdirectories(combination_dir):\n",
    "                    result_path = attempt_dir\n",
    "                    attempt = os.path.basename(attempt_dir)\n",
    "\n",
    "                    results = grab_results(result_path)\n",
    "\n",
    "                    df = json_normalize(data=results)\n",
    "                    df.insert(0, 'attempt', int(attempt))\n",
    "                    df.insert(0, 'combination', int(combination))\n",
    "                    df.insert(0, 'coverage', int(coverage))\n",
    "                    df.insert(0, 'program', replace_name(program))\n",
    "                    all_df = all_df.append(df, sort=False)\n",
    "\n",
    "    return all_df\n"
   ]
  },
  {
   "cell_type": "code",
   "execution_count": 4,
   "metadata": {},
   "outputs": [],
   "source": [
    "def grab_results(result_directory):\n",
    "    patchTimeRegex = re.compile(r\"totaltime: (\\d+\\.\\d+)\\s(\\d+\\.\\d+)\\s(\\d+\\.\\d+)\")\n",
    "    totalTimeRegex = re.compile(r\"Total Execution Time: (\\d+\\.\\d+)\")\n",
    "    optRegex = re.compile(r\"(?:(\\d+\\.\\d+)\\s+.*?)+(\\b[a-zA-Z ]+\\b)\")\n",
    "\n",
    "    patch_time_txt = os.path.join(result_directory, \"patchTime.txt\")\n",
    "    transform_console = os.path.join(result_directory, \"transform.console\")\n",
    "\n",
    "    patch_time = 0\n",
    "    if os.path.isfile(patch_time_txt):\n",
    "        with open(patch_time_txt, 'r') as f:\n",
    "            data = f.read()\n",
    "            m = re.match(patchTimeRegex, data)\n",
    "            patch_time = m.group(1)\n",
    "\n",
    "    passes = {}\n",
    "    total_time = 0\n",
    "    if os.path.isfile(transform_console):\n",
    "        with open(transform_console, 'r') as f:\n",
    "            data = f.read()\n",
    "\n",
    "            for m in re.finditer(totalTimeRegex, data):\n",
    "                total_time = float(m.group(1))\n",
    "                break\n",
    "\n",
    "            cf_time = 0\n",
    "            for m in re.finditer(optRegex, data):\n",
    "                name = m.group(2).strip()\n",
    "                value = float(m.group(1))\n",
    "                if name == \"Instruments bitcode with hashing and logging functions\":\n",
    "                    passes[\"oh\"] = value\n",
    "                elif name == \"Marks functions to be mobilized\":\n",
    "                    passes[\"cm\"] = value\n",
    "                elif name == \"Control Flow Integrity Pass\":\n",
    "                    passes[\"cfi\"] = value\n",
    "                elif name == \"Instruments bitcode with guards\":\n",
    "                    passes[\"sc\"] = value\n",
    "                elif name == \"Constraint Protection Pass\":\n",
    "                    cf_time += value\n",
    "                elif name == \"Constraint Graph Pass\":\n",
    "                    cf_time += value\n",
    "                elif name == \"Constraint Analysis Pass\":\n",
    "                    cf_time += value\n",
    "\n",
    "            passes[\"cf\"] = float(cf_time)\n",
    "            passes[\"protections_total\"] = float(passes[\"oh\"] + passes[\"sc\"] + passes[\"cfi\"] + passes[\"cm\"])\n",
    "    composition_stats = os.path.join(result_directory, \"composition.stats\")\n",
    "    if os.path.exists(composition_stats):\n",
    "        data = json.load(open(composition_stats))\n",
    "        data['patch_time'] = patch_time\n",
    "        data['total_time'] = total_time\n",
    "        data['pass_times'] = passes\n",
    "        return data\n",
    "    return {'total_time': 0, 'patch_time': 0, 'pass_times': {}}\n"
   ]
  },
  {
   "cell_type": "code",
   "execution_count": 5,
   "metadata": {},
   "outputs": [],
   "source": [
    "def replace_name(p):\n",
    "    return p.replace('.bc', ''). \\\n",
    "        replace('.x', ''). \\\n",
    "        replace('_testapp', ''). \\\n",
    "        replace('_game', ''). \\\n",
    "        replace('_large', '-l'). \\\n",
    "        replace('_small', '-s'). \\\n",
    "        replace('raw', ''). \\\n",
    "        replace('search', 'srch'). \\\n",
    "        replace('sort', 'srt'). \\\n",
    "        replace('basicmath', 'bm'). \\\n",
    "        replace('dijkstra', 'dkstra')\n"
   ]
  },
  {
   "cell_type": "code",
   "execution_count": 6,
   "metadata": {},
   "outputs": [],
   "source": [
    "def process_results(df):\n",
    "    grouped = df.groupby([df['program'], df['coverage'], df['attempt']])\n",
    "    return grouped.agg([np.median, np.mean, np.std])\n"
   ]
  },
  {
   "cell_type": "code",
   "execution_count": 10,
   "metadata": {
    "collapsed": true
   },
   "outputs": [
    {
     "ename": "KeyError",
     "evalue": "'cfi'",
     "traceback": [
      "\u001b[0;31m---------------------------------------------------------------------------\u001b[0m",
      "\u001b[0;31mKeyError\u001b[0m                                  Traceback (most recent call last)",
      "\u001b[0;32m<ipython-input-10-de0356f6d913>\u001b[0m in \u001b[0;36m<module>\u001b[0;34m()\u001b[0m\n\u001b[0;32m----> 1\u001b[0;31m \u001b[0mdf\u001b[0m \u001b[0;34m=\u001b[0m \u001b[0mprocess_files\u001b[0m\u001b[0;34m(\u001b[0m\u001b[0;34m\"/home/sip/eval/binaries\"\u001b[0m\u001b[0;34m)\u001b[0m\u001b[0;34m\u001b[0m\u001b[0m\n\u001b[0m\u001b[1;32m      2\u001b[0m \u001b[0mdf\u001b[0m \u001b[0;34m=\u001b[0m \u001b[0mdf\u001b[0m\u001b[0;34m.\u001b[0m\u001b[0mfillna\u001b[0m\u001b[0;34m(\u001b[0m\u001b[0;36m0\u001b[0m\u001b[0;34m)\u001b[0m\u001b[0;34m\u001b[0m\u001b[0m\n\u001b[1;32m      3\u001b[0m \u001b[0mdf\u001b[0m \u001b[0;34m=\u001b[0m \u001b[0mdf\u001b[0m\u001b[0;34m.\u001b[0m\u001b[0mdrop\u001b[0m\u001b[0;34m(\u001b[0m\u001b[0mcolumns\u001b[0m\u001b[0;34m=\u001b[0m\u001b[0;34m[\u001b[0m\u001b[0;34m'combination'\u001b[0m\u001b[0;34m]\u001b[0m\u001b[0;34m)\u001b[0m\u001b[0;34m\u001b[0m\u001b[0m\n\u001b[1;32m      4\u001b[0m \u001b[0;31m#df = df[['program', 'attempt', 'coverage', 'actualManifests', 'proposedManifests', 'cycles', 'conflicts',\u001b[0m\u001b[0;34m\u001b[0m\u001b[0;34m\u001b[0m\u001b[0m\n\u001b[1;32m      5\u001b[0m \u001b[0;31m#         'timeConflictDetection', 'timeConflictResolving', 'timeGraphConstruction', 'total_time',\u001b[0m\u001b[0;34m\u001b[0m\u001b[0;34m\u001b[0m\u001b[0m\n",
      "\u001b[0;32m<ipython-input-3-d754c9b27bb1>\u001b[0m in \u001b[0;36mprocess_files\u001b[0;34m(directory)\u001b[0m\n\u001b[1;32m     15\u001b[0m                     \u001b[0mattempt\u001b[0m \u001b[0;34m=\u001b[0m \u001b[0mos\u001b[0m\u001b[0;34m.\u001b[0m\u001b[0mpath\u001b[0m\u001b[0;34m.\u001b[0m\u001b[0mbasename\u001b[0m\u001b[0;34m(\u001b[0m\u001b[0mattempt_dir\u001b[0m\u001b[0;34m)\u001b[0m\u001b[0;34m\u001b[0m\u001b[0m\n\u001b[1;32m     16\u001b[0m \u001b[0;34m\u001b[0m\u001b[0m\n\u001b[0;32m---> 17\u001b[0;31m                     \u001b[0mresults\u001b[0m \u001b[0;34m=\u001b[0m \u001b[0mgrab_results\u001b[0m\u001b[0;34m(\u001b[0m\u001b[0mresult_path\u001b[0m\u001b[0;34m)\u001b[0m\u001b[0;34m\u001b[0m\u001b[0m\n\u001b[0m\u001b[1;32m     18\u001b[0m \u001b[0;34m\u001b[0m\u001b[0m\n\u001b[1;32m     19\u001b[0m                     \u001b[0mdf\u001b[0m \u001b[0;34m=\u001b[0m \u001b[0mjson_normalize\u001b[0m\u001b[0;34m(\u001b[0m\u001b[0mdata\u001b[0m\u001b[0;34m=\u001b[0m\u001b[0mresults\u001b[0m\u001b[0;34m)\u001b[0m\u001b[0;34m\u001b[0m\u001b[0m\n",
      "\u001b[0;32m<ipython-input-4-ca0299a0045d>\u001b[0m in \u001b[0;36mgrab_results\u001b[0;34m(result_directory)\u001b[0m\n\u001b[1;32m     44\u001b[0m \u001b[0;34m\u001b[0m\u001b[0m\n\u001b[1;32m     45\u001b[0m             \u001b[0mpasses\u001b[0m\u001b[0;34m[\u001b[0m\u001b[0;34m\"cf\"\u001b[0m\u001b[0;34m]\u001b[0m \u001b[0;34m=\u001b[0m \u001b[0mfloat\u001b[0m\u001b[0;34m(\u001b[0m\u001b[0mcf_time\u001b[0m\u001b[0;34m)\u001b[0m\u001b[0;34m\u001b[0m\u001b[0m\n\u001b[0;32m---> 46\u001b[0;31m             \u001b[0mpasses\u001b[0m\u001b[0;34m[\u001b[0m\u001b[0;34m\"protections_total\"\u001b[0m\u001b[0;34m]\u001b[0m \u001b[0;34m=\u001b[0m \u001b[0mfloat\u001b[0m\u001b[0;34m(\u001b[0m\u001b[0mpasses\u001b[0m\u001b[0;34m[\u001b[0m\u001b[0;34m\"oh\"\u001b[0m\u001b[0;34m]\u001b[0m \u001b[0;34m+\u001b[0m \u001b[0mpasses\u001b[0m\u001b[0;34m[\u001b[0m\u001b[0;34m\"sc\"\u001b[0m\u001b[0;34m]\u001b[0m \u001b[0;34m+\u001b[0m \u001b[0mpasses\u001b[0m\u001b[0;34m[\u001b[0m\u001b[0;34m\"cfi\"\u001b[0m\u001b[0;34m]\u001b[0m \u001b[0;34m+\u001b[0m \u001b[0mpasses\u001b[0m\u001b[0;34m[\u001b[0m\u001b[0;34m\"cm\"\u001b[0m\u001b[0;34m]\u001b[0m\u001b[0;34m)\u001b[0m\u001b[0;34m\u001b[0m\u001b[0m\n\u001b[0m\u001b[1;32m     47\u001b[0m     \u001b[0mcomposition_stats\u001b[0m \u001b[0;34m=\u001b[0m \u001b[0mos\u001b[0m\u001b[0;34m.\u001b[0m\u001b[0mpath\u001b[0m\u001b[0;34m.\u001b[0m\u001b[0mjoin\u001b[0m\u001b[0;34m(\u001b[0m\u001b[0mresult_directory\u001b[0m\u001b[0;34m,\u001b[0m \u001b[0;34m\"composition.stats\"\u001b[0m\u001b[0;34m)\u001b[0m\u001b[0;34m\u001b[0m\u001b[0m\n\u001b[1;32m     48\u001b[0m     \u001b[0;32mif\u001b[0m \u001b[0mos\u001b[0m\u001b[0;34m.\u001b[0m\u001b[0mpath\u001b[0m\u001b[0;34m.\u001b[0m\u001b[0mexists\u001b[0m\u001b[0;34m(\u001b[0m\u001b[0mcomposition_stats\u001b[0m\u001b[0;34m)\u001b[0m\u001b[0;34m:\u001b[0m\u001b[0;34m\u001b[0m\u001b[0m\n",
      "\u001b[0;31mKeyError\u001b[0m: 'cfi'"
     ],
     "output_type": "error"
    }
   ],
   "source": [
    "df = process_files(\"/home/sip/eval/binaries\")\n",
    "df = df.fillna(0)\n",
    "df = df.drop(columns=['combination'])\n",
    "df = df[['program', 'attempt', 'coverage', 'actualManifests', 'proposedManifests', 'cycles', 'conflicts',\n",
    "         'timeConflictDetection', 'timeConflictResolving', 'timeGraphConstruction', 'total_time',\n",
    "         'pass_times.protections_total', 'patch_time', 'pass_times.cf', 'pass_times.cm', 'pass_times.cfi',\n",
    "         'pass_times.sc', 'pass_times.oh']]\n",
    "df = process_results(df).sort_values(['program', 'coverage'])\n"
   ]
  },
  {
   "cell_type": "code",
   "execution_count": 8,
   "metadata": {},
   "outputs": [
    {
     "ename": "NameError",
     "evalue": "name 'df' is not defined",
     "traceback": [
      "\u001b[0;31m---------------------------------------------------------------------------\u001b[0m",
      "\u001b[0;31mNameError\u001b[0m                                 Traceback (most recent call last)",
      "\u001b[0;32m<ipython-input-8-f5b435fb1052>\u001b[0m in \u001b[0;36m<module>\u001b[0;34m()\u001b[0m\n\u001b[0;32m----> 1\u001b[0;31m \u001b[0mdf\u001b[0m \u001b[0;34m=\u001b[0m \u001b[0mdf\u001b[0m\u001b[0;34m.\u001b[0m\u001b[0mfillna\u001b[0m\u001b[0;34m(\u001b[0m\u001b[0;36m0\u001b[0m\u001b[0;34m)\u001b[0m\u001b[0;34m\u001b[0m\u001b[0m\n\u001b[0m\u001b[1;32m      2\u001b[0m \u001b[0mdf\u001b[0m\u001b[0;34m.\u001b[0m\u001b[0mcolumns\u001b[0m \u001b[0;34m=\u001b[0m \u001b[0mdf\u001b[0m\u001b[0;34m.\u001b[0m\u001b[0mcolumns\u001b[0m\u001b[0;34m.\u001b[0m\u001b[0mmap\u001b[0m\u001b[0;34m(\u001b[0m\u001b[0;34m'_'\u001b[0m\u001b[0;34m.\u001b[0m\u001b[0mjoin\u001b[0m\u001b[0;34m)\u001b[0m\u001b[0;34m\u001b[0m\u001b[0m\n\u001b[1;32m      3\u001b[0m \u001b[0mdf\u001b[0m \u001b[0;34m=\u001b[0m \u001b[0mdf\u001b[0m\u001b[0;34m.\u001b[0m\u001b[0mreset_index\u001b[0m\u001b[0;34m(\u001b[0m\u001b[0;34m)\u001b[0m\u001b[0;34m\u001b[0m\u001b[0m\n",
      "\u001b[0;31mNameError\u001b[0m: name 'df' is not defined"
     ],
     "output_type": "error"
    }
   ],
   "source": [
    "df = df.fillna(0)\n",
    "df.columns = df.columns.map('_'.join)\n",
    "df = df.reset_index()"
   ]
  },
  {
   "cell_type": "code",
   "execution_count": 16,
   "metadata": {},
   "outputs": [],
   "source": [
    "for attempt in df['attempt'].unique():\n",
    "    for coverage in df['coverage'].unique():\n",
    "        cdf = df[df['coverage'] == coverage]\n",
    "        cdf.to_csv(os.path.join(\"/home/sip/eval/binaries\", \"time-{}-{}.csv\".format(attempt, coverage)), index=False)\n"
   ]
  },
  {
   "cell_type": "code",
   "execution_count": 17,
   "metadata": {},
   "outputs": [],
   "source": [
    "df.to_csv(os.path.join(\"/home/sip/eval/binaries\", \"time.csv\"), index=False)\n"
   ]
  },
  {
   "cell_type": "code",
   "execution_count": 1,
   "metadata": {},
   "outputs": [],
   "source": []
  },
  {
   "cell_type": "code",
   "execution_count": null,
   "metadata": {},
   "outputs": [],
   "source": []
  }
 ],
 "metadata": {
  "kernelspec": {
   "display_name": "Python 2",
   "language": "python",
   "name": "python2"
  },
  "language_info": {
   "codemirror_mode": {
    "name": "ipython",
    "version": 2
   },
   "file_extension": ".py",
   "mimetype": "text/x-python",
   "name": "python",
   "nbconvert_exporter": "python",
   "pygments_lexer": "ipython2",
   "version": "2.7.15rc1"
  }
 },
 "nbformat": 4,
 "nbformat_minor": 1
}
