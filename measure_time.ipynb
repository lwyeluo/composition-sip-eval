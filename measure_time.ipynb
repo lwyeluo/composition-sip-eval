{
 "cells": [
  {
   "cell_type": "code",
   "execution_count": null,
   "metadata": {},
   "outputs": [],
   "source": [
    "from __future__ import print_function\n",
    "import os\n",
    "import json\n",
    "import numpy as np\n",
    "import pandas as pd\n",
    "from pandas.io.json import json_normalize\n",
    "import re\n"
   ]
  },
  {
   "cell_type": "code",
   "execution_count": 3,
   "metadata": {},
   "outputs": [],
   "source": [
    "def get_immediate_subdirectories(d):\n",
    "    return filter(os.path.isdir, [os.path.join(d, f) for f in os.listdir(d)])"
   ]
  },
  {
   "cell_type": "code",
   "execution_count": 4,
   "metadata": {},
   "outputs": [],
   "source": [
    "def process_files(directory):\n",
    "    all_df = pd.DataFrame()\n",
    "    for program_dir in get_immediate_subdirectories(directory):\n",
    "        program = os.path.basename(program_dir)\n",
    "        for coverage_dir in sorted(get_immediate_subdirectories(program_dir)):\n",
    "            coverage = os.path.basename(coverage_dir)\n",
    "            if coverage == \"0\":\n",
    "                continue\n",
    "\n",
    "            for combination_dir in get_immediate_subdirectories(coverage_dir):\n",
    "                combination = os.path.basename(combination_dir)\n",
    "\n",
    "                for attempt_dir in get_immediate_subdirectories(combination_dir):\n",
    "                    result_path = attempt_dir\n",
    "                    attempt = os.path.basename(attempt_dir)\n",
    "\n",
    "                    results = grab_results(result_path)\n",
    "                    \n",
    "                    df = json_normalize(data=results)\n",
    "                    df.insert(0, 'attempt', int(attempt))\n",
    "                    df.insert(0, 'combination', int(combination))\n",
    "                    df.insert(0, 'coverage', int(coverage))\n",
    "                    df.insert(0, 'program', program)\n",
    "                    all_df = all_df.append(df, sort=False)\n",
    "                    \n",
    "    return all_df"
   ]
  },
  {
   "cell_type": "code",
   "execution_count": 45,
   "metadata": {},
   "outputs": [],
   "source": [
    "def grab_results(result_directory):\n",
    "    patchTimeRegex = re.compile(r\"totaltime: (\\d+\\.\\d+)\\s(\\d+\\.\\d+)\\s(\\d+\\.\\d+)\")\n",
    "    totalTimeRegex = re.compile(r\"Total Execution Time: (\\d+\\.\\d+)\")\n",
    "    optRegex = re.compile(r\"(?:(\\d+\\.\\d+)\\s+.*?)+(\\b[a-zA-Z ]+\\b)\")\n",
    "    \n",
    "    patch_time_txt = os.path.join(result_directory, \"patchTime.txt\")\n",
    "    transform_console = os.path.join(result_directory, \"transform.console\")\n",
    "    \n",
    "    patch_time = 0\n",
    "    if os.path.isfile(patch_time_txt):\n",
    "        with open(patch_time_txt, 'r') as f:\n",
    "            data = f.read()\n",
    "            m = re.match(patchTimeRegex, data)\n",
    "            patch_time = m.group(1)\n",
    "\n",
    "    passes = {}\n",
    "    total_time = 0\n",
    "    if os.path.isfile(transform_console):\n",
    "        with open(transform_console, 'r') as f:\n",
    "            data = f.read()\n",
    "            \n",
    "            for m in re.finditer(totalTimeRegex, data):\n",
    "                total_time = float(m.group(1))\n",
    "                break\n",
    "            \n",
    "            cf_time = 0\n",
    "            for m in re.finditer(optRegex, data):\n",
    "                name = m.group(2).strip()\n",
    "                value = float(m.group(1))\n",
    "                if name == \"Instruments bitcode with hashing and logging functions\":\n",
    "                    passes[\"oh\"] = value\n",
    "                elif name == \"Marks functions to be mobilized\":\n",
    "                    passes[\"cm\"] = value\n",
    "                elif name == \"Control Flow Integrity Pass\":\n",
    "                    passes[\"cfi\"] = value\n",
    "                elif name == \"Instruments bitcode with guards\":\n",
    "                    passes[\"sc\"] = value\n",
    "                elif name == \"Constraint Protection Pass\":\n",
    "                    cf_time += value\n",
    "                elif name == \"Constraint Graph Pass\":\n",
    "                    cf_time += value\n",
    "                elif name == \"Constraint Analysis Pass\":\n",
    "                    cf_time += value\n",
    "                    \n",
    "            passes[\"cf\"] = float(cf_time)\n",
    "            passes[\"protections_total\"] = float(passes[\"oh\"] + passes[\"sc\"] + passes[\"cfi\"] + passes[\"cm\"])\n",
    "    composition_stats = os.path.join(result_directory, \"composition.stats\")\n",
    "    if os.path.exists(composition_stats):\n",
    "        data = json.load(open(composition_stats))\n",
    "        data['patch_time'] = patch_time\n",
    "        data['total_time'] = total_time\n",
    "        data['pass_times'] = passes\n",
    "        return data\n",
    "    return {'total_time': 0, 'patch_time': 0, 'pass_times': {}}\n"
   ]
  },
  {
   "cell_type": "code",
   "execution_count": 46,
   "metadata": {},
   "outputs": [],
   "source": [
    "def process_results(df):\n",
    "    grouped = df.groupby([df['program'], df['coverage'], df['attempt']])\n",
    "    return grouped.agg([np.median, np.mean, np.std])"
   ]
  },
  {
   "cell_type": "code",
   "execution_count": 47,
   "metadata": {
    "collapsed": true
   },
   "outputs": [],
   "source": [
    "df = process_files(\"/home/sip/eval/binaries\")\n",
    "df = df.fillna(0)\n",
    "df = df.drop(columns=['combination'])\n",
    "df = df[['program', 'attempt', 'coverage', 'actualManifests', 'proposedManifests', 'timeCycleDetection', 'timeConflictResolving', 'timeGraphConstruction', 'total_time', 'pass_times.protections_total', 'patch_time', 'pass_times.cf', 'pass_times.cm', 'pass_times.cfi', 'pass_times.sc', 'pass_times.oh']]\n",
    "df = df[df['attempt'] == 1]"
   ]
  },
  {
   "cell_type": "code",
   "execution_count": 48,
   "metadata": {},
   "outputs": [],
   "source": [
    "df = process_results(df).sort_values(['program', 'coverage'])\n",
    "df = df.fillna(0)\n",
    "df.columns = df.columns.map('_'.join)\n",
    "df = df.reset_index()\n",
    "df = df.round(2)"
   ]
  },
  {
   "cell_type": "code",
   "execution_count": 49,
   "metadata": {},
   "outputs": [],
   "source": [
    "for coverage in df['coverage'].unique():\n",
    "    cdf = df[df['coverage'] == coverage]\n",
    "    \n",
    "    cdf.to_csv(os.path.join(\"/home/sip/eval/binaries\", \"time_{}.csv\".format(coverage)), index=False)"
   ]
  },
  {
   "cell_type": "code",
   "execution_count": 50,
   "metadata": {},
   "outputs": [],
   "source": [
    "df.to_csv(os.path.join(\"/home/sip/eval/binaries\", \"time.csv\".format(coverage)), index=False)"
   ]
  },
  {
   "cell_type": "code",
   "execution_count": null,
   "metadata": {},
   "outputs": [],
   "source": []
  }
 ],
 "metadata": {
  "kernelspec": {
   "display_name": "Python 2",
   "language": "python",
   "name": "python2"
  },
  "language_info": {
   "codemirror_mode": {
    "name": "ipython",
    "version": 2
   },
   "file_extension": ".py",
   "mimetype": "text/x-python",
   "name": "python",
   "nbconvert_exporter": "python",
   "pygments_lexer": "ipython2",
   "version": "2.7.15rc1"
  }
 },
 "nbformat": 4,
 "nbformat_minor": 1
}
